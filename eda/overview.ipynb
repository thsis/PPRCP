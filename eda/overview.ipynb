{
 "cells": [
  {
   "cell_type": "code",
   "execution_count": 1,
   "metadata": {},
   "outputs": [],
   "source": [
    "import os\n",
    "import pandas as pd\n",
    "import numpy as np\n",
    "from matplotlib import pyplot as plt\n",
    "from matplotlib import dates as dt\n",
    "from pandas.plotting import register_matplotlib_converters\n",
    "\n",
    "register_matplotlib_converters()"
   ]
  },
  {
   "cell_type": "markdown",
   "metadata": {},
   "source": [
    "# Overview of the data\n",
    "\n",
    "The goal here is to find out which of the roughly 120000 files are useful for further analysis. In particular, I need to find out:\n",
    "\n",
    "* Which stations collect data on precipitation (and how thorouhly)?\n",
    "* What is the most densely populated time frame?\n",
    "* How are they scattered accross the globe?\n",
    "* Do they have further columns in common?"
   ]
  },
  {
   "cell_type": "markdown",
   "metadata": {},
   "source": [
    "## Which stations collect data on precipitation"
   ]
  },
  {
   "cell_type": "code",
   "execution_count": 2,
   "metadata": {},
   "outputs": [],
   "source": [
    "datadir = os.path.join(\"..\", \"data\", \"ghcnd\", \"data_overview.csv\")\n",
    "figdir = os.path.join(\"..\", \"figures\")"
   ]
  },
  {
   "cell_type": "code",
   "execution_count": 3,
   "metadata": {},
   "outputs": [],
   "source": [
    "overview = pd.read_csv(datadir) "
   ]
  },
  {
   "cell_type": "code",
   "execution_count": 4,
   "metadata": {},
   "outputs": [
    {
     "data": {
      "text/html": [
       "<div>\n",
       "<style scoped>\n",
       "    .dataframe tbody tr th:only-of-type {\n",
       "        vertical-align: middle;\n",
       "    }\n",
       "\n",
       "    .dataframe tbody tr th {\n",
       "        vertical-align: top;\n",
       "    }\n",
       "\n",
       "    .dataframe thead th {\n",
       "        text-align: right;\n",
       "    }\n",
       "</style>\n",
       "<table border=\"1\" class=\"dataframe\">\n",
       "  <thead>\n",
       "    <tr style=\"text-align: right;\">\n",
       "      <th></th>\n",
       "      <th>station</th>\n",
       "      <th>start_date</th>\n",
       "      <th>end_date</th>\n",
       "      <th>column</th>\n",
       "      <th>nrow</th>\n",
       "      <th>na_count</th>\n",
       "      <th>file</th>\n",
       "    </tr>\n",
       "  </thead>\n",
       "  <tbody>\n",
       "    <tr>\n",
       "      <th>433724</th>\n",
       "      <td>USC00092395</td>\n",
       "      <td>1852-10-01</td>\n",
       "      <td>1854-06-30</td>\n",
       "      <td>PRCP</td>\n",
       "      <td>396</td>\n",
       "      <td>0</td>\n",
       "      <td>USC00092395.csv</td>\n",
       "    </tr>\n",
       "    <tr>\n",
       "      <th>93529</th>\n",
       "      <td>USP00CA0003</td>\n",
       "      <td>1863-01-01</td>\n",
       "      <td>1865-08-31</td>\n",
       "      <td>PRCP</td>\n",
       "      <td>881</td>\n",
       "      <td>0</td>\n",
       "      <td>USP00CA0003.csv</td>\n",
       "    </tr>\n",
       "    <tr>\n",
       "      <th>228730</th>\n",
       "      <td>USC00189674</td>\n",
       "      <td>1860-02-01</td>\n",
       "      <td>1866-01-31</td>\n",
       "      <td>PRCP</td>\n",
       "      <td>1363</td>\n",
       "      <td>9</td>\n",
       "      <td>USC00189674.csv</td>\n",
       "    </tr>\n",
       "    <tr>\n",
       "      <th>228731</th>\n",
       "      <td>USC00189674</td>\n",
       "      <td>1860-02-01</td>\n",
       "      <td>1866-01-31</td>\n",
       "      <td>SNOW</td>\n",
       "      <td>1363</td>\n",
       "      <td>1336</td>\n",
       "      <td>USC00189674.csv</td>\n",
       "    </tr>\n",
       "    <tr>\n",
       "      <th>549715</th>\n",
       "      <td>ASN00088146</td>\n",
       "      <td>1867-04-01</td>\n",
       "      <td>1868-05-31</td>\n",
       "      <td>PRCP</td>\n",
       "      <td>427</td>\n",
       "      <td>0</td>\n",
       "      <td>ASN00088146.csv</td>\n",
       "    </tr>\n",
       "  </tbody>\n",
       "</table>\n",
       "</div>"
      ],
      "text/plain": [
       "            station  start_date    end_date column  nrow  na_count  \\\n",
       "433724  USC00092395  1852-10-01  1854-06-30   PRCP   396         0   \n",
       "93529   USP00CA0003  1863-01-01  1865-08-31   PRCP   881         0   \n",
       "228730  USC00189674  1860-02-01  1866-01-31   PRCP  1363         9   \n",
       "228731  USC00189674  1860-02-01  1866-01-31   SNOW  1363      1336   \n",
       "549715  ASN00088146  1867-04-01  1868-05-31   PRCP   427         0   \n",
       "\n",
       "                   file  \n",
       "433724  USC00092395.csv  \n",
       "93529   USP00CA0003.csv  \n",
       "228730  USC00189674.csv  \n",
       "228731  USC00189674.csv  \n",
       "549715  ASN00088146.csv  "
      ]
     },
     "execution_count": 4,
     "metadata": {},
     "output_type": "execute_result"
    }
   ],
   "source": [
    "overview.sort_values(\"end_date\", inplace=True)\n",
    "overview.head()"
   ]
  },
  {
   "cell_type": "code",
   "execution_count": 5,
   "metadata": {},
   "outputs": [],
   "source": [
    "overview[\"na_share\"] = overview.na_count / overview.nrow"
   ]
  }
 ],
 "metadata": {
  "kernelspec": {
   "display_name": "pprcp",
   "language": "python",
   "name": "pprcp"
  },
  "language_info": {
   "codemirror_mode": {
    "name": "ipython",
    "version": 3
   },
   "file_extension": ".py",
   "mimetype": "text/x-python",
   "name": "python",
   "nbconvert_exporter": "python",
   "pygments_lexer": "ipython3",
   "version": "3.6.7"
  }
 },
 "nbformat": 4,
 "nbformat_minor": 2
}
